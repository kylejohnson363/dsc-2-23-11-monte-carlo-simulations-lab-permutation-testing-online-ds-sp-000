{
 "cells": [
  {
   "cell_type": "markdown",
   "metadata": {},
   "source": [
    "# Monte Carlo Simulations - Lab\n",
    "\n",
    "## Introduction\n",
    "\n",
    "Often when attempting to conduct a permutation test, the total number of possible combinations is exceedingly large. At times, this number can be so vast that even with modern computers, it is infeasible or exceedingly resource heavy in order to compute all possible variations. As a result, these large sets can be approximated using monte carlo simulations. In this lab, you will combine ideas from the previous lessons and labs in order to conduct a monte carlo simulation of a permutation test that would otherwise be infeasible to compute.\n",
    "\n",
    "\n",
    "## Objectives \n",
    "\n",
    "You will be able to:\n",
    "* Understand permutation testing\n",
    "* Understand and conduct Monte Carlo simulations"
   ]
  },
  {
   "cell_type": "markdown",
   "metadata": {},
   "source": [
    "## Exploding Sample Sizes\n",
    "\n",
    "As we discussed in the previous lecture, permutation test sizes can quickly explode as our original sample sizes grow. To demonstrate this, Create a graph to show how the number of combinations increases as we increase just one of the sample sizes. Assume that our first sample is of 25 individuals. From there, plot a graph of how the permutation test sample size increases drastically as our second sample increases from 10 to 200 individuals. (Assume that every new person has a unique blood pressure; a stretch of an assumption, but greatly simplifies our calculations for now.)"
   ]
  },
  {
   "cell_type": "code",
   "execution_count": 1,
   "metadata": {},
   "outputs": [],
   "source": [
    "# Your code here\n",
    "# Your code here\n",
    "from scipy.special import comb\n",
    "import matplotlib.pyplot as plt\n",
    "%matplotlib inline\n",
    "import numpy as np"
   ]
  },
  {
   "cell_type": "code",
   "execution_count": 20,
   "metadata": {},
   "outputs": [
    {
     "data": {
      "text/plain": [
       "Text(0, 0.5, 'Number of Combinations for Permutation Test: e^')"
      ]
     },
     "execution_count": 20,
     "metadata": {},
     "output_type": "execute_result"
    },
    {
     "data": {
      "image/png": "[encoded data removed]",
      "text/plain": [
       "<Figure size 576x576 with 1 Axes>"
      ]
     },
     "metadata": {
      "needs_background": "light"
     },
     "output_type": "display_data"
    }
   ],
   "source": [
    "y = []\n",
    "x = []\n",
    "a = 25\n",
    "for b in range(10,200):\n",
    "    x.append(b)\n",
    "    com=comb(a+b,a)\n",
    "    y.append(com)\n",
    "plt.figure(figsize=(8,8))\n",
    "plt.plot(x,np.log(y))\n",
    "plt.title('Combination Sample Space of a 25 Observation Sample Compared to Various Second Sample Sizes')\n",
    "plt.xlabel('Size of Second Sample')\n",
    "plt.ylabel('Number of Combinations for Permutation Test: e^')"
   ]
  },
  {
   "cell_type": "markdown",
   "metadata": {},
   "source": [
    "## Creating the Monte Carlo Simulation\n",
    "\n",
    "Let's expand upon our blood pressure example from the preceding lab. Even with our previous sample sizes of a sample of 14 and a sample of 12, we had a total of over 9 million combinations. As you can see from the graph above, this quantity continues to rapidly increase. As a result, it is often impracticle or impossible to calculate all possible combinations. Instead, use a Monte Carlo Simulation to sample from the combination space in order to emulate a permutation test. While a precise simulation of a permutation test would record which combinations we have already simulated, doing so greatly reduces the speed of the process. Below is the complete samples of two populations blood pressure.  \n",
    "  \n",
    "Write a Monte Carlo simulation to sample from the permutation space. Be sure to not allow replacement so that certain possible combinations are not repeated. Calculate the p-value after `10, 100, 500, 1000, 10**4, 10**5, 10**6, 2*10**6 and 5*10**6` iterations. Graph these to show how the p-value stabilizes and converges after a large number of iterations.\n",
    " "
   ]
  },
  {
   "cell_type": "code",
   "execution_count": 21,
   "metadata": {},
   "outputs": [],
   "source": [
    "a = [109.6927759 , 120.27296943, 103.54012038, 114.16555857,\n",
    "       122.93336175, 110.9271756 , 114.77443758, 116.34159338,\n",
    "       130.72888419, 116.04552895, 114.8313492 , 117.52704641,\n",
    "       109.06597142, 117.0317262 , 114.34876391, 111.32151926,\n",
    "       108.90594481, 110.95040527,  99.15890727, 117.93581615,\n",
    "       106.35644209, 112.88102458, 103.87574946, 111.88394265,\n",
    "       115.42450119, 124.02872282, 116.19121625, 115.59471365,\n",
    "       112.66413025, 118.30562665, 132.31196515, 117.99000948]\n",
    "b = [123.98967482, 141.11969004, 117.00293412, 121.6419775 ,\n",
    "       123.2703033 , 123.76944385, 105.95249634, 114.87114479,\n",
    "       110.50162354, 121.31836918, 124.9483451 , 126.04639783,\n",
    "       119.71433463, 117.49416398, 129.47657837, 115.57798929,\n",
    "       117.36035264, 130.92919224, 104.43218778, 119.97610071,\n",
    "       115.67085089, 113.77487389, 114.02470379, 116.64660978,\n",
    "       117.3023355 , 116.30944159, 123.66560428, 117.87222118,\n",
    "       128.8445079 , 111.7976685 , 117.25730744, 111.62121119,\n",
    "       110.12277446, 112.7150916 , 129.21006268, 125.97287311,\n",
    "       130.6878082 , 140.60768727, 121.95433026, 123.11996767,\n",
    "       129.93260914, 121.01049611, 129.23680238]"
   ]
  },
  {
   "cell_type": "code",
   "execution_count": 22,
   "metadata": {},
   "outputs": [
    {
     "name": "stdout",
     "output_type": "stream",
     "text": [
      "After 10 iterations p-value is: 1.0\n",
      "After 100 iterations p-value is: 1.0\n",
      "After 500 iterations p-value is: 0.998003992015968\n",
      "After 1000 iterations p-value is: 0.999000999000999\n",
      "After 10000 iterations p-value is: 0.9994000599940006\n",
      "After 100000 iterations p-value is: 0.99950000499995\n"
     ]
    },
    {
     "ename": "KeyboardInterrupt",
     "evalue": "",
     "output_type": "error",
     "traceback": [
      "\u001b[1;31m---------------------------------------------------------------------------\u001b[0m",
      "\u001b[1;31mKeyboardInterrupt\u001b[0m                         Traceback (most recent call last)",
      "\u001b[1;32m<ipython-input-22-ee5217d0b266>\u001b[0m in \u001b[0;36m<module>\u001b[1;34m\u001b[0m\n\u001b[0;32m      5\u001b[0m \u001b[1;32mfor\u001b[0m \u001b[0mi\u001b[0m \u001b[1;32min\u001b[0m \u001b[0mrange\u001b[0m\u001b[1;33m(\u001b[0m\u001b[1;36m5\u001b[0m\u001b[1;33m*\u001b[0m\u001b[1;36m10\u001b[0m\u001b[1;33m**\u001b[0m\u001b[1;36m6\u001b[0m\u001b[1;33m)\u001b[0m\u001b[1;33m:\u001b[0m\u001b[1;33m\u001b[0m\u001b[1;33m\u001b[0m\u001b[0m\n\u001b[0;32m      6\u001b[0m     \u001b[1;31m#Generate an a\u001b[0m\u001b[1;33m\u001b[0m\u001b[1;33m\u001b[0m\u001b[1;33m\u001b[0m\u001b[0m\n\u001b[1;32m----> 7\u001b[1;33m     \u001b[0mai\u001b[0m \u001b[1;33m=\u001b[0m \u001b[0mnp\u001b[0m\u001b[1;33m.\u001b[0m\u001b[0mrandom\u001b[0m\u001b[1;33m.\u001b[0m\u001b[0mchoice\u001b[0m\u001b[1;33m(\u001b[0m\u001b[0munion\u001b[0m\u001b[1;33m,\u001b[0m \u001b[0msize\u001b[0m\u001b[1;33m=\u001b[0m\u001b[0mlen\u001b[0m\u001b[1;33m(\u001b[0m\u001b[0ma\u001b[0m\u001b[1;33m)\u001b[0m\u001b[1;33m,\u001b[0m \u001b[0mreplace\u001b[0m\u001b[1;33m=\u001b[0m\u001b[1;32mFalse\u001b[0m\u001b[1;33m)\u001b[0m\u001b[1;33m\u001b[0m\u001b[1;33m\u001b[0m\u001b[0m\n\u001b[0m\u001b[0;32m      8\u001b[0m     \u001b[1;31m#Generate its compliment as b\u001b[0m\u001b[1;33m\u001b[0m\u001b[1;33m\u001b[0m\u001b[1;33m\u001b[0m\u001b[0m\n\u001b[0;32m      9\u001b[0m     \u001b[0mbi\u001b[0m \u001b[1;33m=\u001b[0m \u001b[0munion\u001b[0m\u001b[1;33m.\u001b[0m\u001b[0mcopy\u001b[0m\u001b[1;33m(\u001b[0m\u001b[1;33m)\u001b[0m\u001b[1;33m\u001b[0m\u001b[1;33m\u001b[0m\u001b[0m\n",
      "\u001b[1;31mKeyboardInterrupt\u001b[0m: "
     ]
    }
   ],
   "source": [
    "diff_mu_a_b = np.mean(a) - np.mean(b)\n",
    "num = 0\n",
    "denom = 0\n",
    "union = a + b\n",
    "for i in range(5*10**6):\n",
    "    #Generate an a\n",
    "    ai = np.random.choice(union, size=len(a), replace=False)\n",
    "    #Generate its compliment as b\n",
    "    bi = union.copy()\n",
    "    for item in ai:\n",
    "        bi.remove(item)\n",
    "    diff_mu_ai_bi = np.mean(ai) - np.mean(bi)\n",
    "    if diff_mu_ai_bi >= diff_mu_a_b:\n",
    "        num +=1\n",
    "    denom += 1\n",
    "    #Compute difference in means\n",
    "    if i in [10,100,500,1000, 10**4, 10**5, 10**6, 2*10**6, 5*10**6]:\n",
    "        print(\"After {} iterations p-value is: {}\".format(i, num/denom))"
   ]
  },
  {
   "cell_type": "markdown",
   "metadata": {},
   "source": [
    "## Summary\n",
    "\n",
    "In this lab you simulated a permutation test and observed both how combination sizes explode rapidly and how p-values will converge over time in a simulation."
   ]
  }
 ],
 "metadata": {
  "kernelspec": {
   "display_name": "Python 3",
   "language": "python",
   "name": "python3"
  },
  "language_info": {
   "codemirror_mode": {
    "name": "ipython",
    "version": 3
   },
   "file_extension": ".py",
   "mimetype": "text/x-python",
   "name": "python",
   "nbconvert_exporter": "python",
   "pygments_lexer": "ipython3",
   "version": "3.7.3"
  }
 },
 "nbformat": 4,
 "nbformat_minor": 2
}
